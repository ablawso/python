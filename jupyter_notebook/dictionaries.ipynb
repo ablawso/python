{
 "cells": [
  {
   "cell_type": "code",
   "execution_count": 13,
   "id": "d79a4071",
   "metadata": {},
   "outputs": [],
   "source": [
    "my_data = {'name': 'Adrienne', 'age': 'none of your business'}"
   ]
  },
  {
   "cell_type": "code",
   "execution_count": 14,
   "id": "45872d03",
   "metadata": {},
   "outputs": [
    {
     "data": {
      "text/plain": [
       "{'name': 'Adrienne', 'age': 'none of your business'}"
      ]
     },
     "execution_count": 14,
     "metadata": {},
     "output_type": "execute_result"
    }
   ],
   "source": [
    "my_data"
   ]
  },
  {
   "cell_type": "code",
   "execution_count": 3,
   "id": "33fc4026",
   "metadata": {},
   "outputs": [
    {
     "data": {
      "text/plain": [
       "dict_keys(['name', 'age'])"
      ]
     },
     "execution_count": 3,
     "metadata": {},
     "output_type": "execute_result"
    }
   ],
   "source": [
    "my_data.keys()"
   ]
  },
  {
   "cell_type": "code",
   "execution_count": 4,
   "id": "870b38d6",
   "metadata": {},
   "outputs": [
    {
     "data": {
      "text/plain": [
       "dict_values(['Adrienne', 35])"
      ]
     },
     "execution_count": 4,
     "metadata": {},
     "output_type": "execute_result"
    }
   ],
   "source": [
    "my_data.values()"
   ]
  },
  {
   "cell_type": "code",
   "execution_count": 15,
   "id": "fd7ab06a",
   "metadata": {},
   "outputs": [
    {
     "data": {
      "text/plain": [
       "dict_items([('name', 'Adrienne'), ('age', 'none of your business')])"
      ]
     },
     "execution_count": 15,
     "metadata": {},
     "output_type": "execute_result"
    }
   ],
   "source": [
    "my_data.items()"
   ]
  },
  {
   "cell_type": "code",
   "execution_count": 6,
   "id": "1d1a8323",
   "metadata": {},
   "outputs": [],
   "source": [
    "my_data['weight'] = 'None of your business'"
   ]
  },
  {
   "cell_type": "code",
   "execution_count": 16,
   "id": "02d9586c",
   "metadata": {},
   "outputs": [
    {
     "data": {
      "text/plain": [
       "{'name': 'Adrienne', 'age': 'none of your business'}"
      ]
     },
     "execution_count": 16,
     "metadata": {},
     "output_type": "execute_result"
    }
   ],
   "source": [
    "my_data"
   ]
  },
  {
   "cell_type": "code",
   "execution_count": 8,
   "id": "82439f35",
   "metadata": {},
   "outputs": [],
   "source": [
    "my_data.update({'weight': 'None of your fucking business'})"
   ]
  },
  {
   "cell_type": "code",
   "execution_count": 18,
   "id": "4278f533",
   "metadata": {},
   "outputs": [
    {
     "data": {
      "text/plain": [
       "{'name': 'Adrienne', 'age': 'none of your business'}"
      ]
     },
     "execution_count": 18,
     "metadata": {},
     "output_type": "execute_result"
    }
   ],
   "source": [
    "my_data"
   ]
  },
  {
   "cell_type": "code",
   "execution_count": 11,
   "id": "01b1ad00",
   "metadata": {},
   "outputs": [],
   "source": [
    "new_dict = my_data.copy()"
   ]
  },
  {
   "cell_type": "code",
   "execution_count": 12,
   "id": "de6986d2",
   "metadata": {},
   "outputs": [
    {
     "data": {
      "text/plain": [
       "{'name': 'Adrienne', 'age': 35, 'weight': 'None of your fucking business'}"
      ]
     },
     "execution_count": 12,
     "metadata": {},
     "output_type": "execute_result"
    }
   ],
   "source": [
    "new_dict"
   ]
  },
  {
   "cell_type": "code",
   "execution_count": 19,
   "id": "80fb00e4",
   "metadata": {},
   "outputs": [],
   "source": [
    "new_dict2 = my_data"
   ]
  },
  {
   "cell_type": "code",
   "execution_count": 20,
   "id": "315e7ac8",
   "metadata": {},
   "outputs": [
    {
     "data": {
      "text/plain": [
       "{'name': 'Adrienne', 'age': 'none of your business'}"
      ]
     },
     "execution_count": 20,
     "metadata": {},
     "output_type": "execute_result"
    }
   ],
   "source": [
    "new_dict2"
   ]
  },
  {
   "cell_type": "code",
   "execution_count": 21,
   "id": "0ff2ffb6",
   "metadata": {},
   "outputs": [],
   "source": [
    "new_dict2.update({'weight': 'none of your fucking business'})"
   ]
  },
  {
   "cell_type": "code",
   "execution_count": 22,
   "id": "dee9b8eb",
   "metadata": {},
   "outputs": [
    {
     "data": {
      "text/plain": [
       "{'name': 'Adrienne',\n",
       " 'age': 'none of your business',\n",
       " 'weight': 'none of your fucking business'}"
      ]
     },
     "execution_count": 22,
     "metadata": {},
     "output_type": "execute_result"
    }
   ],
   "source": [
    "new_dict2"
   ]
  },
  {
   "cell_type": "code",
   "execution_count": 23,
   "id": "bdbb10ee",
   "metadata": {},
   "outputs": [
    {
     "data": {
      "text/plain": [
       "'none of your business'"
      ]
     },
     "execution_count": 23,
     "metadata": {},
     "output_type": "execute_result"
    }
   ],
   "source": [
    "my_data.pop('age')"
   ]
  },
  {
   "cell_type": "code",
   "execution_count": 24,
   "id": "f1380473",
   "metadata": {},
   "outputs": [
    {
     "data": {
      "text/plain": [
       "{'name': 'Adrienne', 'weight': 'none of your fucking business'}"
      ]
     },
     "execution_count": 24,
     "metadata": {},
     "output_type": "execute_result"
    }
   ],
   "source": [
    "my_data"
   ]
  },
  {
   "cell_type": "code",
   "execution_count": 27,
   "id": "09d66d11",
   "metadata": {},
   "outputs": [
    {
     "data": {
      "text/plain": [
       "{'name': 'Adrienne', 'age': 35, 'weight': 'None of your fucking business'}"
      ]
     },
     "execution_count": 27,
     "metadata": {},
     "output_type": "execute_result"
    }
   ],
   "source": [
    "new_dict"
   ]
  },
  {
   "cell_type": "code",
   "execution_count": 28,
   "id": "d3bb552d",
   "metadata": {},
   "outputs": [],
   "source": [
    "del new_dict['age']"
   ]
  },
  {
   "cell_type": "code",
   "execution_count": 29,
   "id": "02d84f3c",
   "metadata": {},
   "outputs": [
    {
     "data": {
      "text/plain": [
       "{'name': 'Adrienne', 'weight': 'None of your fucking business'}"
      ]
     },
     "execution_count": 29,
     "metadata": {},
     "output_type": "execute_result"
    }
   ],
   "source": [
    "new_dict"
   ]
  },
  {
   "cell_type": "code",
   "execution_count": 30,
   "id": "c4cc70d0",
   "metadata": {},
   "outputs": [],
   "source": [
    "my_data.clear()"
   ]
  },
  {
   "cell_type": "code",
   "execution_count": 31,
   "id": "3f68f2b7",
   "metadata": {},
   "outputs": [
    {
     "data": {
      "text/plain": [
       "{}"
      ]
     },
     "execution_count": 31,
     "metadata": {},
     "output_type": "execute_result"
    }
   ],
   "source": [
    "my_data"
   ]
  }
 ],
 "metadata": {
  "kernelspec": {
   "display_name": "Python 3 (ipykernel)",
   "language": "python",
   "name": "python3"
  },
  "language_info": {
   "codemirror_mode": {
    "name": "ipython",
    "version": 3
   },
   "file_extension": ".py",
   "mimetype": "text/x-python",
   "name": "python",
   "nbconvert_exporter": "python",
   "pygments_lexer": "ipython3",
   "version": "3.9.7"
  }
 },
 "nbformat": 4,
 "nbformat_minor": 5
}
