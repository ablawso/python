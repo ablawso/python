{
 "cells": [
  {
   "cell_type": "code",
   "execution_count": 10,
   "id": "f160119f",
   "metadata": {},
   "outputs": [],
   "source": [
    "def convert_to_fahrenheit(celsius_temp):\n",
    "    product = celsius_temp * 1.8\n",
    "    return product + 32"
   ]
  },
  {
   "cell_type": "code",
   "execution_count": 11,
   "id": "2c58fe8f",
   "metadata": {},
   "outputs": [
    {
     "data": {
      "text/plain": [
       "57.2"
      ]
     },
     "execution_count": 11,
     "metadata": {},
     "output_type": "execute_result"
    }
   ],
   "source": [
    "convert_to_fahrenheit(14)"
   ]
  },
  {
   "cell_type": "code",
   "execution_count": 12,
   "id": "017e3876",
   "metadata": {},
   "outputs": [
    {
     "data": {
      "text/plain": [
       "90.21200000000002"
      ]
     },
     "execution_count": 12,
     "metadata": {},
     "output_type": "execute_result"
    }
   ],
   "source": [
    "convert_to_fahrenheit(32.34)"
   ]
  },
  {
   "cell_type": "code",
   "execution_count": 16,
   "id": "32fd0e4f",
   "metadata": {},
   "outputs": [
    {
     "data": {
      "text/plain": [
       "47.3"
      ]
     },
     "execution_count": 16,
     "metadata": {},
     "output_type": "execute_result"
    }
   ],
   "source": [
    "convert_to_fahrenheit(8.5)"
   ]
  },
  {
   "cell_type": "code",
   "execution_count": 17,
   "id": "91896cdb",
   "metadata": {},
   "outputs": [],
   "source": [
    "def convert_to_fahrenheit(celsius_temp = 0):\n",
    "    product = celsius_temp * 1.8\n",
    "    return product + 32"
   ]
  },
  {
   "cell_type": "code",
   "execution_count": 18,
   "id": "5700e559",
   "metadata": {},
   "outputs": [
    {
     "data": {
      "text/plain": [
       "392.0"
      ]
     },
     "execution_count": 18,
     "metadata": {},
     "output_type": "execute_result"
    }
   ],
   "source": [
    "convert_to_fahrenheit(200)"
   ]
  },
  {
   "cell_type": "code",
   "execution_count": 19,
   "id": "ee907358",
   "metadata": {},
   "outputs": [
    {
     "data": {
      "text/plain": [
       "32.0"
      ]
     },
     "execution_count": 19,
     "metadata": {},
     "output_type": "execute_result"
    }
   ],
   "source": [
    "convert_to_fahrenheit()"
   ]
  }
 ],
 "metadata": {
  "kernelspec": {
   "display_name": "Python 3 (ipykernel)",
   "language": "python",
   "name": "python3"
  },
  "language_info": {
   "codemirror_mode": {
    "name": "ipython",
    "version": 3
   },
   "file_extension": ".py",
   "mimetype": "text/x-python",
   "name": "python",
   "nbconvert_exporter": "python",
   "pygments_lexer": "ipython3",
   "version": "3.9.7"
  }
 },
 "nbformat": 4,
 "nbformat_minor": 5
}
