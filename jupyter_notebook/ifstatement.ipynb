{
 "cells": [
  {
   "cell_type": "code",
   "execution_count": 7,
   "id": "8d5b8d0b",
   "metadata": {},
   "outputs": [
    {
     "name": "stdout",
     "output_type": "stream",
     "text": [
      "You're still a baby\n"
     ]
    }
   ],
   "source": [
    "age = 18\n",
    "\n",
    "if age>=45:\n",
    "    print(\"You're middle age\")\n",
    "elif age>=12:\n",
    "    print(\"You're still a baby\")\n",
    "else:\n",
    "    print(\"You're not up there yet\")"
   ]
  },
  {
   "cell_type": "code",
   "execution_count": 11,
   "id": "9bbefa8c",
   "metadata": {},
   "outputs": [
    {
     "name": "stdout",
     "output_type": "stream",
     "text": [
      "You're down there with Gillian Anderson. Good for you!\n"
     ]
    }
   ],
   "source": [
    "height = 5.6\n",
    "\n",
    "if height>=5.7:\n",
    "    print(\"You're taller than me! Congrats!\")\n",
    "elif height>=6.0:\n",
    "    print(\"You're almost Lee Pace height! Congrats!\")\n",
    "else:\n",
    "    print(\"You're down there with Gillian Anderson. Good for you!\")"
   ]
  },
  {
   "cell_type": "code",
   "execution_count": null,
   "id": "4d955395",
   "metadata": {},
   "outputs": [],
   "source": []
  }
 ],
 "metadata": {
  "kernelspec": {
   "display_name": "Python 3 (ipykernel)",
   "language": "python",
   "name": "python3"
  },
  "language_info": {
   "codemirror_mode": {
    "name": "ipython",
    "version": 3
   },
   "file_extension": ".py",
   "mimetype": "text/x-python",
   "name": "python",
   "nbconvert_exporter": "python",
   "pygments_lexer": "ipython3",
   "version": "3.9.7"
  }
 },
 "nbformat": 4,
 "nbformat_minor": 5
}
