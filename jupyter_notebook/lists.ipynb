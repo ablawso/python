{
 "cells": [
  {
   "cell_type": "code",
   "execution_count": 34,
   "id": "5fd28544",
   "metadata": {},
   "outputs": [],
   "source": [
    "countries = ['United States', 'Brazil', 'India', 'China', 'Spain']"
   ]
  },
  {
   "cell_type": "code",
   "execution_count": 38,
   "id": "6bad7a53",
   "metadata": {},
   "outputs": [
    {
     "data": {
      "text/plain": [
       "['United States', 'Brazil', 'India', 'China', 'Spain']"
      ]
     },
     "execution_count": 38,
     "metadata": {},
     "output_type": "execute_result"
    }
   ],
   "source": [
    "countries"
   ]
  },
  {
   "cell_type": "code",
   "execution_count": 41,
   "id": "f28dde8f",
   "metadata": {},
   "outputs": [
    {
     "name": "stdout",
     "output_type": "stream",
     "text": [
      "India\n"
     ]
    }
   ],
   "source": [
    "print(countries[2])"
   ]
  },
  {
   "cell_type": "code",
   "execution_count": 42,
   "id": "610b6ce3",
   "metadata": {},
   "outputs": [
    {
     "data": {
      "text/plain": [
       "'Spain'"
      ]
     },
     "execution_count": 42,
     "metadata": {},
     "output_type": "execute_result"
    }
   ],
   "source": [
    "countries[-1]"
   ]
  },
  {
   "cell_type": "code",
   "execution_count": 43,
   "id": "c7066d0f",
   "metadata": {},
   "outputs": [
    {
     "data": {
      "text/plain": [
       "'United States'"
      ]
     },
     "execution_count": 43,
     "metadata": {},
     "output_type": "execute_result"
    }
   ],
   "source": [
    "countries[-5]"
   ]
  },
  {
   "cell_type": "code",
   "execution_count": 45,
   "id": "bdda0367",
   "metadata": {},
   "outputs": [
    {
     "data": {
      "text/plain": [
       "['United States']"
      ]
     },
     "execution_count": 45,
     "metadata": {},
     "output_type": "execute_result"
    }
   ],
   "source": [
    "#slicing\n",
    "countries[0:1]"
   ]
  },
  {
   "cell_type": "code",
   "execution_count": 49,
   "id": "1dfe940c",
   "metadata": {},
   "outputs": [
    {
     "data": {
      "text/plain": [
       "['United States', 'Brazil']"
      ]
     },
     "execution_count": 49,
     "metadata": {},
     "output_type": "execute_result"
    }
   ],
   "source": [
    "countries[:2]"
   ]
  },
  {
   "cell_type": "code",
   "execution_count": 50,
   "id": "10e01e23",
   "metadata": {},
   "outputs": [
    {
     "data": {
      "text/plain": [
       "['United States', 'Brazil', 'India', 'China', 'Spain']"
      ]
     },
     "execution_count": 50,
     "metadata": {},
     "output_type": "execute_result"
    }
   ],
   "source": [
    "#Adding elements to a list\n",
    "countries"
   ]
  },
  {
   "cell_type": "code",
   "execution_count": 51,
   "id": "6f95d888",
   "metadata": {},
   "outputs": [],
   "source": [
    "countries.append('Canada')"
   ]
  },
  {
   "cell_type": "code",
   "execution_count": 52,
   "id": "6750db3f",
   "metadata": {},
   "outputs": [
    {
     "data": {
      "text/plain": [
       "['United States', 'Brazil', 'India', 'China', 'Spain', 'Canada']"
      ]
     },
     "execution_count": 52,
     "metadata": {},
     "output_type": "execute_result"
    }
   ],
   "source": [
    "countries"
   ]
  },
  {
   "cell_type": "code",
   "execution_count": 53,
   "id": "8059d8fb",
   "metadata": {},
   "outputs": [],
   "source": [
    "countries.insert(4, 'Lesotho')"
   ]
  },
  {
   "cell_type": "code",
   "execution_count": 54,
   "id": "2134cf62",
   "metadata": {},
   "outputs": [
    {
     "data": {
      "text/plain": [
       "['United States', 'Brazil', 'India', 'China', 'Lesotho', 'Spain', 'Canada']"
      ]
     },
     "execution_count": 54,
     "metadata": {},
     "output_type": "execute_result"
    }
   ],
   "source": [
    "countries"
   ]
  },
  {
   "cell_type": "code",
   "execution_count": 56,
   "id": "c43f90e3",
   "metadata": {},
   "outputs": [],
   "source": [
    "countries_2 = ['UK', 'Germany', 'Switzerland']"
   ]
  },
  {
   "cell_type": "code",
   "execution_count": 57,
   "id": "8ada0017",
   "metadata": {},
   "outputs": [
    {
     "data": {
      "text/plain": [
       "['United States',\n",
       " 'Brazil',\n",
       " 'India',\n",
       " 'China',\n",
       " 'Lesotho',\n",
       " 'Spain',\n",
       " 'Canada',\n",
       " 'UK',\n",
       " 'Germany',\n",
       " 'Switzerland']"
      ]
     },
     "execution_count": 57,
     "metadata": {},
     "output_type": "execute_result"
    }
   ],
   "source": [
    "countries + countries_2"
   ]
  },
  {
   "cell_type": "code",
   "execution_count": 58,
   "id": "119be0b6",
   "metadata": {},
   "outputs": [],
   "source": [
    "nested_countries = [countries, countries_2]"
   ]
  },
  {
   "cell_type": "code",
   "execution_count": 59,
   "id": "3f4fd723",
   "metadata": {},
   "outputs": [
    {
     "data": {
      "text/plain": [
       "[['United States', 'Brazil', 'India', 'China', 'Lesotho', 'Spain', 'Canada'],\n",
       " ['UK', 'Germany', 'Switzerland']]"
      ]
     },
     "execution_count": 59,
     "metadata": {},
     "output_type": "execute_result"
    }
   ],
   "source": [
    "nested_countries"
   ]
  },
  {
   "cell_type": "code",
   "execution_count": 60,
   "id": "97f79c43",
   "metadata": {},
   "outputs": [],
   "source": [
    "countries.remove('United States')"
   ]
  },
  {
   "cell_type": "code",
   "execution_count": 61,
   "id": "b3be10e0",
   "metadata": {},
   "outputs": [
    {
     "data": {
      "text/plain": [
       "['Brazil', 'India', 'China', 'Lesotho', 'Spain', 'Canada']"
      ]
     },
     "execution_count": 61,
     "metadata": {},
     "output_type": "execute_result"
    }
   ],
   "source": [
    "countries"
   ]
  },
  {
   "cell_type": "code",
   "execution_count": 62,
   "id": "55b37332",
   "metadata": {},
   "outputs": [
    {
     "data": {
      "text/plain": [
       "'Canada'"
      ]
     },
     "execution_count": 62,
     "metadata": {},
     "output_type": "execute_result"
    }
   ],
   "source": [
    "countries.pop(-1)"
   ]
  },
  {
   "cell_type": "code",
   "execution_count": 63,
   "id": "a7411def",
   "metadata": {},
   "outputs": [
    {
     "data": {
      "text/plain": [
       "['Brazil', 'India', 'China', 'Lesotho', 'Spain']"
      ]
     },
     "execution_count": 63,
     "metadata": {},
     "output_type": "execute_result"
    }
   ],
   "source": [
    "countries"
   ]
  },
  {
   "cell_type": "code",
   "execution_count": 64,
   "id": "9734a535",
   "metadata": {},
   "outputs": [],
   "source": [
    "del countries[2]"
   ]
  },
  {
   "cell_type": "code",
   "execution_count": 65,
   "id": "ceb920cf",
   "metadata": {},
   "outputs": [
    {
     "data": {
      "text/plain": [
       "['Brazil', 'India', 'Lesotho', 'Spain']"
      ]
     },
     "execution_count": 65,
     "metadata": {},
     "output_type": "execute_result"
    }
   ],
   "source": [
    "countries"
   ]
  },
  {
   "cell_type": "code",
   "execution_count": 66,
   "id": "105a1eb7",
   "metadata": {},
   "outputs": [],
   "source": [
    "#Sorting a List\n",
    "numbers = [4, 8, 3, 10, 7, 1, 87]"
   ]
  },
  {
   "cell_type": "code",
   "execution_count": 67,
   "id": "8ce74a60",
   "metadata": {},
   "outputs": [],
   "source": [
    "numbers.sort()"
   ]
  },
  {
   "cell_type": "code",
   "execution_count": 68,
   "id": "e5a207fe",
   "metadata": {},
   "outputs": [
    {
     "data": {
      "text/plain": [
       "[1, 3, 4, 7, 8, 10, 87]"
      ]
     },
     "execution_count": 68,
     "metadata": {},
     "output_type": "execute_result"
    }
   ],
   "source": [
    "numbers"
   ]
  },
  {
   "cell_type": "code",
   "execution_count": 69,
   "id": "036e0f98",
   "metadata": {},
   "outputs": [],
   "source": [
    "numbers.sort(reverse=True)"
   ]
  },
  {
   "cell_type": "code",
   "execution_count": 70,
   "id": "8810b0b4",
   "metadata": {},
   "outputs": [
    {
     "data": {
      "text/plain": [
       "[87, 10, 8, 7, 4, 3, 1]"
      ]
     },
     "execution_count": 70,
     "metadata": {},
     "output_type": "execute_result"
    }
   ],
   "source": [
    "numbers"
   ]
  },
  {
   "cell_type": "code",
   "execution_count": 71,
   "id": "e1e61181",
   "metadata": {},
   "outputs": [],
   "source": [
    "numbers[0] = 100"
   ]
  },
  {
   "cell_type": "code",
   "execution_count": 72,
   "id": "f617ab64",
   "metadata": {},
   "outputs": [
    {
     "data": {
      "text/plain": [
       "[100, 10, 8, 7, 4, 3, 1]"
      ]
     },
     "execution_count": 72,
     "metadata": {},
     "output_type": "execute_result"
    }
   ],
   "source": [
    "numbers"
   ]
  },
  {
   "cell_type": "code",
   "execution_count": 75,
   "id": "a5578067",
   "metadata": {},
   "outputs": [],
   "source": [
    "#copying a list\n",
    "countries = ['United States', 'Brazil', 'India', 'China', 'Spain']\n",
    "new_list = countries[:]"
   ]
  },
  {
   "cell_type": "code",
   "execution_count": 76,
   "id": "5c724d1b",
   "metadata": {},
   "outputs": [
    {
     "data": {
      "text/plain": [
       "['United States', 'Brazil', 'India', 'China', 'Spain']"
      ]
     },
     "execution_count": 76,
     "metadata": {},
     "output_type": "execute_result"
    }
   ],
   "source": [
    "new_list"
   ]
  },
  {
   "cell_type": "code",
   "execution_count": 78,
   "id": "5a70b772",
   "metadata": {},
   "outputs": [],
   "source": [
    "new_list_2 = countries.copy()"
   ]
  },
  {
   "cell_type": "code",
   "execution_count": 79,
   "id": "2ce987c7",
   "metadata": {},
   "outputs": [
    {
     "data": {
      "text/plain": [
       "['United States', 'Brazil', 'India', 'China', 'Spain']"
      ]
     },
     "execution_count": 79,
     "metadata": {},
     "output_type": "execute_result"
    }
   ],
   "source": [
    "new_list_2"
   ]
  }
 ],
 "metadata": {
  "kernelspec": {
   "display_name": "Python 3 (ipykernel)",
   "language": "python",
   "name": "python3"
  },
  "language_info": {
   "codemirror_mode": {
    "name": "ipython",
    "version": 3
   },
   "file_extension": ".py",
   "mimetype": "text/x-python",
   "name": "python",
   "nbconvert_exporter": "python",
   "pygments_lexer": "ipython3",
   "version": "3.9.7"
  }
 },
 "nbformat": 4,
 "nbformat_minor": 5
}
